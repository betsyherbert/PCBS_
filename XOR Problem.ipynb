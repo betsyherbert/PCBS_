{
 "cells": [
  {
   "cell_type": "markdown",
   "metadata": {},
   "source": [
    "### Introduction ###\n",
    "\n",
    "A neural network is a method in the field of machine learning used to build predictive models to help solve complex tasks. The network is first exposed to a large amount of data, then the system is trained to learn the best predictions by itself.\n",
    "\n",
    "The components of neural networks are 'neurons' or nodes, which take in any number of inputs, apply a mathematical function to them, and return outputs onward to other neurons. Each input is weighted; the weights are free parameters to be adjusted during training. The mathematical function is known as the 'activation function'.\n",
    "\n",
    "The network consists of many layers of neurons; the outputs of one layer are inputs to the next. By stacking layers together, the basic activation functions can form more complex mathematical functions. The aim is to construct a function which maps the inputs to the desired outputs. This is done by adjusting the weights each neuron applies to its inputs.\n",
    "\n",
    "\n",
    "\n"
   ]
  },
  {
   "cell_type": "code",
   "execution_count": null,
   "metadata": {
    "collapsed": true
   },
   "outputs": [],
   "source": [
    "The XOR, or “exclusive or”, problem is the problem of using a neural network to predict the outputs of XOR logic gates given two binary inputs. An XOR function should return a true value if the two inputs are not equal and a false value if they are equal. All possible inputs and predicted outputs are shown in figure 1.\n",
    "![image.png](attachment:image.png)\n",
    "\n",
    "XOR is a classification problem. Expected outputs are known in advance. So we use suprvised learning. \n",
    "\n",
    "On the surface, XOR appears to be a simple problem. However, Minsky and Papert (1969) explained how it was a huge problem for neural network architectures at the time (perceptrons).\n"
   ]
  },
  {
   "cell_type": "code",
   "execution_count": 45,
   "metadata": {},
   "outputs": [],
   "source": [
    "# Create input array (x) and output array (y)\n",
    "\n",
    "x = np.array([[0, 0], \n",
    "              [0, 1],\n",
    "              [1, 0],\n",
    "              [1, 1]]) \n",
    "\n",
    "y = np.array([[0], \n",
    "             [1], \n",
    "             [1],\n",
    "             [0]])"
   ]
  },
  {
   "cell_type": "markdown",
   "metadata": {},
   "source": [
    "### Perceptrons ###\n",
    "\n",
    "Perceptrons have a single layer of input units. The input units X1, X2 etc. are multiplied by their respective weights W0, W1 etc., and passed to the output unit. A bias is added. This is then passed through an activation function (typically Heavside step function), converting the resulting value to a 0 or 1. \n",
    "\n",
    "It is the weight variables that controls the conversion of input to output. And biases. \n",
    "\n",
    "Single-layer perceptrons are only capable of separating data points with a single line. XOR inputs are not linearly separable. There is no way to separate the 1 and 0 predictions with a single line. \n"
   ]
  },
  {
   "cell_type": "code",
   "execution_count": 46,
   "metadata": {},
   "outputs": [
    {
     "data": {
      "image/png": "[encoded data removed]",
      "text/plain": [
       "<Figure size 432x288 with 1 Axes>"
      ]
     },
     "metadata": {
      "needs_background": "light"
     },
     "output_type": "display_data"
    }
   ],
   "source": [
    "# Visualise classfication problem - note nonlinearity \n",
    "\n",
    "plt.grid()\n",
    "\n",
    "for i in range(len(x)):\n",
    "    c = 'r'\n",
    "    if y[i] == 0:\n",
    "        c = 'b'\n",
    "    plt.scatter([x[i][0]], [x[i][1]], c=c)\n"
   ]
  },
  {
   "cell_type": "markdown",
   "metadata": {},
   "source": [
    "### Multilayer Perceptrons ###\n",
    "\n",
    "The solution is to expand beyond the single-layer architecture by adding another layer of units, known as the 'hidden layer'. This is known as a multilayer perceptron (MLP). \n",
    "\n",
    "An MLP can have any number of units in its input, hidden and output layers, and any number of hidden layers.\n",
    "\n",
    "Here, forward propagation: input values multiplied with respective weights, bias added, passed through activation function (typically sigmoid function). The outputs of each hidden layer unit are then multiplied by another set of weights and parsed to an output unit. After being passed through another activation function, the network outputs its prediction (values between 0 and 1). \n",
    "\n",
    "This architecture is capable of achieving nonlinear separation. Thus, it can correctly classify XOR inputs. \n",
    "\n",
    "The Universal Approximation Theorem states that a 2-layer network can approximate any function, given a complex enough architecture."
   ]
  },
  {
   "cell_type": "markdown",
   "metadata": {},
   "source": [
    "### Backpropagation ###\n",
    "\n",
    "How do we know the correct weight values?\n",
    "\n",
    "Trying to find out manually would be incredibly laborious (and is NP-complete). Can learn automatically a good approximation through backpropagation. First demonstrated for XOR problem by Rumelhart et al. (1985).\n",
    "\n",
    "First - compare predicted value output by forward propagation to the actual value (y). Get 'error'. Adjust the weights in a direction that reduces the size of the error. Both forward and backpropagation are run thousands of times on each input combination until the weights are well-adjusted.\n",
    "\n",
    "BP is a way to 'intelligently train' the network. \n",
    "\n",
    "**Loss function** - a way to quantify the performance of the network. The difference between the network's predictions and actual outputs. E.g. mean-squared error, cross-entropy loss. \n",
    "\n",
    "Training becomes an optimisation problem of minimising the loss function. Although advanced techniques exist - e.g. simulated annealing, genetic algorithms - to find global minima of black-box functions, the huge number of free parameters in these networks means these approaches are very slow to converge. \n",
    "\n",
    "Though the loss function contains many local minima, each minima is about as optimal as any other. We can use the **gradient descent** algorithm to find such minima. Gradient descent calculates the slope fo the loss function at the current point in parameter space and moves in the direction in which the gradient is steepest. \n",
    "\n",
    "**Updating the network**\n",
    "\n",
    "We take a data point and do a *forward pass* through the network.\n",
    "We then evaluate the loss function of the output.\n",
    "We do a *backward pass* thgouh the network, finding the gradient of the loss function. Backpropagation allows to analytically derive the effect of each parameter in each layer on the output of the network. We adjust each parameter by taking a small step *down* the gradient. The size of the step is referred to as the learning rate, eta.\n",
    "\n",
    "\n",
    "\n"
   ]
  },
  {
   "cell_type": "code",
   "execution_count": 47,
   "metadata": {},
   "outputs": [],
   "source": [
    "# Import dependencies\n",
    "\n",
    "import numpy as np "
   ]
  },
  {
   "cell_type": "code",
   "execution_count": 79,
   "metadata": {},
   "outputs": [],
   "source": [
    "# Define activation function and its derivative \n",
    "\n",
    "def sigmoid(z):\n",
    "    return 1.0/(1.0 + np.exp(-z))\n",
    "\n",
    "def sigmoid_prime(z):\n",
    "    return z*(1-z)"
   ]
  },
  {
   "cell_type": "code",
   "execution_count": 80,
   "metadata": {},
   "outputs": [
    {
     "data": {
      "text/plain": [
       "[<matplotlib.lines.Line2D at 0x7fdda8d49fd0>]"
      ]
     },
     "execution_count": 80,
     "metadata": {},
     "output_type": "execute_result"
    },
    {
     "data": {
      "image/png": "[encoded data removed]",
      "text/plain": [
       "<Figure size 432x288 with 1 Axes>"
      ]
     },
     "metadata": {
      "needs_background": "light"
     },
     "output_type": "display_data"
    }
   ],
   "source": [
    "# Visualise the function\n",
    "\n",
    "z = np.linspace(-5, 5, 100)\n",
    "plt.plot(z, sigmoid(z))\n",
    "plt.plot(z, sigmoid_prime(sigmoid(z)))"
   ]
  },
  {
   "cell_type": "code",
   "execution_count": 81,
   "metadata": {},
   "outputs": [],
   "source": [
    "# Set weights, biases and hyperparameters\n",
    "\n",
    "\n",
    "l = len(x)           # Get dimensions of input array \n",
    "l1 = len((x)[0])\n",
    "\n",
    "np.random.seed(0)     # Set random seed\n",
    "\n",
    "# Set weights\n",
    "wi = np.random.random((l1, l))   # Weights from input to hidden layer\n",
    "wh = np.random.random((l, 1))    # Weights from hidden to output layer\n",
    "\n",
    "# Set biases \n",
    "bi = np.random.random((1, l))    # Biases from input to hidden layer\n",
    "bh = np.random.random((1, 1))    # Biases from hidden to output layer\n",
    "\n",
    "epochs = 100000       # Set number of epochs (training iterations)\n",
    "eta = 1               # Set learning rate \n"
   ]
  },
  {
   "cell_type": "code",
   "execution_count": 76,
   "metadata": {},
   "outputs": [
    {
     "name": "stdout",
     "output_type": "stream",
     "text": [
      "Final hidden weights: \n",
      " [[7.12415454 1.53650714 5.67917875 5.22985046]\n",
      " [7.11503214 1.53195597 5.68137635 5.22446067]]\n",
      "\n",
      " Final hidden bias: \n",
      " [[-3.27900243 -2.25280785 -8.61446641 -2.30582472]]\n",
      "\n",
      " Final output weights: \n",
      " [[ 11.18269885]\n",
      " [ -5.11639206]\n",
      " [-13.99667467]\n",
      " [  5.83389664]]\n",
      "\n",
      " Final output bias: \n",
      " [[-7.16586739]]\n",
      "\n",
      " Output from neural network after 100000 epochs: \n",
      " [[0.00120472]\n",
      " [0.9990269 ]\n",
      " [0.99902687]\n",
      " [0.0010573 ]]\n"
     ]
    }
   ],
   "source": [
    "for i in range(epochs):\n",
    "    \n",
    "    # Forward pass\n",
    "    \n",
    "    a0 = x                                # Activation of input layer\n",
    "    a1 = sigmoid(np.dot(a0, wi) + bi)     # Activation of hidden layer\n",
    "    a2 = sigmoid(np.dot(a1, wh) + bh)     # Activation of output layer\n",
    "    \n",
    "    # Backpropagation\n",
    "    \n",
    "    a2_err = y - a2           # Error = actual output - predicted outut\n",
    "    a2_delta = np.multiply(a2_err, sigmoid_prime(a2))\n",
    "    \n",
    "    a1_err = np.dot(a2_delta, wh.T)\n",
    "    a1_delta = np.multiply(a1_err, sigmoid_prime(a1))\n",
    "    \n",
    "    # Update weights and biases\n",
    "    \n",
    "    wh += eta * (np.dot(a1.T, a2_delta))\n",
    "    wi += eta * (np.dot(a0.T, a1_delta))\n",
    "    \n",
    "    bh += eta * np.sum(a2_delta, axis=0, keepdims=True)\n",
    "    bi += eta * np.sum(a1_delta, axis=0, keepdims=True)\n",
    "    \n",
    "# Print final parameters\n",
    "    \n",
    "print('Final hidden weights: \\n %s' % wi)\n",
    "print('\\n Final hidden bias: \\n %s' % bi)\n",
    "print('\\n Final output weights: \\n %s' % wh)\n",
    "print('\\n Final output bias: \\n %s' % bh)\n",
    "\n",
    "# Print final predictions\n",
    "\n",
    "print('\\n Output from neural network after %s epochs: \\n %s' % (epochs, a2))"
   ]
  },
  {
   "cell_type": "markdown",
   "metadata": {},
   "source": [
    "### Problem with sigmoidal activation function ###\n",
    "\n",
    "The gradient converges asymptotically to zero at large absolute values of x. So if the activation of the neuron is not in the central region, the local gradient is zero. During backprop, incoming gradient gets multiplied by this local gradient, leading to 'vanishing gradients'. The neurons can thereby not update their weights, since the updates depend on the gradients. This can lead to 'dead neurons' within the network. \n",
    "\n",
    "The second problem is that the outputs are not zero-centred. The gradient is either always positive or always negative. If the optimum set of weights happens to be a mixture of positive and negative weights, this can only be reached by inefficient zigzag updates.\n",
    "\n",
    "A solution is to use a rectified linear unit (ReLU). Here the gradient never saturates in the positive region, and is quick to evaluate."
   ]
  },
  {
   "cell_type": "markdown",
   "metadata": {},
   "source": [
    "### Problem with initialisation ###\n",
    "\n",
    "Default approach to initialising weights is to sample them from Gaussian distribution. If they are too low, the output of the neurons is too small and the gradient propagated to the weights vanishes. \n",
    "\n",
    "In 2010, Bengio & Glorot derived a new initialisations cheme - Xavier initalisation. Sets the factor equal to one over the square root of th enumber of inputs to a neuron. So neurons with many inputs have lower weights, and vice versa. \n"
   ]
  },
  {
   "cell_type": "markdown",
   "metadata": {},
   "source": [
    "### Problem with convergence time ###\n",
    "\n",
    "Gradient descent can get stuck in gently sloping valleys. The updates cause zigzag oscillations between the sides of the valley, while the optimal path would be to move along teh centre.\n",
    "\n",
    "Add a momentum step.\n",
    "\n",
    "More improvements  https://medium.com/series/839cfe45cac9 \n",
    "\n"
   ]
  },
  {
   "cell_type": "markdown",
   "metadata": {},
   "source": [
    "### Backprop - more detail ###\n",
    "\n",
    "Principle of backprop - to model a given function by modifying internal weightings of input signals to produce expected output signal. Trained with supervised leadning method, where error between system's output and known expected output is presented to system and used to modify internal state.\n",
    "\n",
    "Backprop is method for training weights of multilayer feedforward neural network. Works for both regression + classification.\n",
    "\n"
   ]
  }
 ],
 "metadata": {
  "kernelspec": {
   "display_name": "Python 3",
   "language": "python",
   "name": "python3"
  },
  "language_info": {
   "codemirror_mode": {
    "name": "ipython",
    "version": 3
   },
   "file_extension": ".py",
   "mimetype": "text/x-python",
   "name": "python",
   "nbconvert_exporter": "python",
   "pygments_lexer": "ipython3",
   "version": "3.7.3"
  }
 },
 "nbformat": 4,
 "nbformat_minor": 2
}
