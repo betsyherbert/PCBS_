{
 "cells": [
  {
   "cell_type": "markdown",
   "metadata": {},
   "source": [
    "# Introduction \n",
    "\n",
    "A __neural network__ is a method in the field of machine learning used to build predictive models to help to solve complex tasks. By exposing the network to a large amount of training data, we can train it to approximate any arbitrary input-output function. \n",
    "\n",
    "The basic building blocks are functional modules known as nodes or \"neurons\", which take in an input, apply a mathematical operation, and produce an output. The network consists of many layers of these neurons; the outputs of one layer are fed as inputs to the next. By stacking the layers together, the input-output mapping can become arbitrarily complex. The aim is to refine the network to map inputs to the desired outputs. This is done by adding a weight and a bias to each node, and gradually adjusting these to get closer and closer to a desired output.\n",
    "\n"
   ]
  },
  {
   "cell_type": "markdown",
   "metadata": {},
   "source": [
    "## The XOR problem\n",
    "\n",
    "The idea behind the XOR, or \"exclusive or\" problem, is to use a neural network to predict the outputs of an XOR logic gate given two binary inputs. An XOR function should return a true value if the two inputs are not equal, and a false value if they are equal. All possible inputs and predicted outputs are shown in _Figure 1_ :\n",
    "\n",
    "\n",
    "![Figure 1](img/XOR.png \"XOR truth table\")\n",
    "\n",
    "We can define these inputs and outputs using the following numpy arrays:\n",
    "\n"
   ]
  },
  {
   "cell_type": "code",
   "execution_count": 80,
   "metadata": {},
   "outputs": [],
   "source": [
    "# Create input array (x) and output array (y)\n",
    "\n",
    "import numpy as np\n",
    "import matplotlib.pyplot as plt\n",
    "\n",
    "x = np.array([[0, 0], \n",
    "              [0, 1],\n",
    "              [1, 0],\n",
    "              [1, 1]]) \n",
    "\n",
    "y = np.array([[0,1,1,0]]).T"
   ]
  },
  {
   "cell_type": "markdown",
   "metadata": {},
   "source": [
    "\n",
    "If we colour the inputs (A and B) according to their classification, we see that the decision boundary for correct classification is not linear. That is, we cannot split the two categories with a single straight line."
   ]
  },
  {
   "cell_type": "code",
   "execution_count": 81,
   "metadata": {},
   "outputs": [
    {
     "data": {
      "image/png": "[encoded data removed]",
      "text/plain": [
       "<Figure size 432x288 with 1 Axes>"
      ]
     },
     "metadata": {
      "needs_background": "light"
     },
     "output_type": "display_data"
    }
   ],
   "source": [
    "plt.grid()\n",
    "\n",
    "for i in range(len(x)):\n",
    "    c = 'r'\n",
    "    if y[i] == 0:\n",
    "        c = 'b'\n",
    "    plt.scatter([x[i][0]], [x[i][1]], c=c)"
   ]
  },
  {
   "cell_type": "markdown",
   "metadata": {},
   "source": [
    "# Perceptrons\n",
    "\n",
    "The simplest neural network is known as a _perceptron,_ invented by Rosenblatt in 1958. They have just one input and one output layer. The activation function commonly used is a _step function,_ which converts the result to either a 1 or a 0. The network hence performs binary classification.\n",
    "\n",
    "We can visualise the architecture of a perceptron in _Figure 2_ :\n",
    "\n",
    "![Figure 1](img/perceptron.png \"Perceptron\")\n",
    "\n",
    "Although they once appeared promising, perceptrons are limited in their function. They are only capable of solving problems which are linearly separable. Hence, they cannot solve the XOR problem."
   ]
  },
  {
   "cell_type": "markdown",
   "metadata": {},
   "source": [
    "# Multilayer Perceptrons \n",
    "\n",
    "The solution is to expand beyond the single-layer architecture by adding another layer of units, known as the 'hidden layer'. This is known as a _multilayer perceptron (MLP)._ An MLP can have any number of hidden layers, and any number of units in each layer. They are fully connected, meaning all the nodes from the current layer are connected to the next. The presence of a hidden layer is exactly what allows the network to learn non-linear mappings; the first layer combines the inputs, and the second layer maps these combinations of inputs to the output.\n",
    "\n",
    "We can visualise the architecture thus:\n",
    "\n",
    "![Figure 2](img/multilayer.png \"Multilayer Perceptron\")\n",
    "\n",
    "\n",
    "The activation function used in MLPs is a nonlinear function - typically the __sigmoid function__ - which compresses the result to any continuous value between 0 and 1. Instead of performing a discrete binary classification, this therefore gives the probability of an input belonging to a certain class. \n",
    "\n",
    "The sigmoid function, which we will use in implementing the MLP, is defined as follows:"
   ]
  },
  {
   "cell_type": "markdown",
   "metadata": {},
   "source": [
    "## $$σ(z) = \\frac{1}{1 + e^{-z}}$$"
   ]
  },
  {
   "cell_type": "markdown",
   "metadata": {},
   "source": [
    "And its __derivative__ - which we will need later - is the following:"
   ]
  },
  {
   "cell_type": "markdown",
   "metadata": {},
   "source": [
    "## $$σ'(z) = z(1-z)$$"
   ]
  },
  {
   "cell_type": "markdown",
   "metadata": {},
   "source": [
    "We will write the sigmoid function, along with its derivative, using the following code. We will also plot both functions to visualise their behaviour. Note how negative values are compressed toward 0, and positive values  to 1. \n"
   ]
  },
  {
   "cell_type": "code",
   "execution_count": 26,
   "metadata": {},
   "outputs": [
    {
     "data": {
      "text/plain": [
       "[<matplotlib.lines.Line2D at 0x7f0025c78438>]"
      ]
     },
     "execution_count": 26,
     "metadata": {},
     "output_type": "execute_result"
    },
    {
     "data": {
      "image/png": "[encoded data removed]",
      "text/plain": [
       "<Figure size 432x288 with 1 Axes>"
      ]
     },
     "metadata": {
      "needs_background": "light"
     },
     "output_type": "display_data"
    }
   ],
   "source": [
    "# Define sigmoid function and its derivative \n",
    "\n",
    "def sigmoid(z):\n",
    "    return 1.0/(1.0 + np.exp(-z))\n",
    "\n",
    "def sigmoid_prime(z):\n",
    "    return z*(1-z)\n",
    "\n",
    "# Visualise the function\n",
    "\n",
    "z = np.linspace(-5, 5, 100)\n",
    "plt.plot(z, sigmoid(z))\n",
    "plt.plot(z, sigmoid_prime(sigmoid(z)))"
   ]
  },
  {
   "cell_type": "markdown",
   "metadata": {},
   "source": [
    "# Forward propagation \n",
    "\n",
    "The first stage of a neural network algorithm is _forward propagation_. This is the process of generating an output prediction given the inputs. The prediction is arbitrary at first; it will be improved with training.\n",
    "\n",
    "\n",
    "An MLP performs multiple linear classifications in parallel, one for each of the C output classes. We therefore need a weight vector $(w_1,w_2,…,w_C)$ and a bias value $(b_1,b_2,…,b_C)$ for each class. The output $\\hat{y}$ of the perceptron should be a $C$-dimensional vector, whose entries contain the probability of the respective class:\n",
    "\n",
    "### $$\\begin{equation*}\n",
    "\\hat{y} = \n",
    "\\begin{pmatrix}\n",
    "σ(w_1^Tx + b_1) \\\\\n",
    "σ(w_2^Tx + b_2) \\\\\n",
    "... \\\\\n",
    "σ(w_C^Tx + b_C)\n",
    "\\end{pmatrix}\n",
    "\\end{equation*}$$\n",
    "\n",
    "\n",
    "To do this efficiently, we can arrange the weight vectors in a matrix $W$, of dimensions ($d × C$), where $d$ is the dimensionality of the input dataset. We can also arrange the bias values in a vector $b$ of length $C$:\n",
    "\n",
    "### $W=(w_1,w_2,…,w_C)∈\\mathbb{R}^{d×C}$ \n",
    "\n",
    "\n",
    "### $\\vec{b}=(b_1,b_2,…,b_C)^T∈\\mathbb{R}^C$\n",
    "\n",
    "The __output__ is obtained by computing the dot product of the input matrix with the weight matrix $W$, adding the bias vector $\\vec{b}$, and applying the sigmoid function element-wise. \n",
    "\n",
    "The computation is therefore:\n",
    "\n",
    "### $$f(x) = σ (xW + \\vec{b})$$\n",
    "\n",
    "### Batch computation \n",
    "\n",
    "The matrix form allows to enter more than one data point at a time. Instead of a single point $x$, we can feed in a matrix $X∈\\mathbb{R}^{Nxd}$ containing one point per row. So there are $N$ rows of d-dimensional points. Instead of $xW$, we compute the matrix multiplication $XW$. This returns an $N × C$ matrix, with each row containing $xW$ for each data point $x$. To each row, we add a bias vector, which is now a $1 × m$ row vector. \n",
    "\n",
    "The forward propagation through the network is therefore essentially performing:\n",
    "\n",
    "### $$f(X) = σ (XW + \\vec{b})$$\n",
    "\n"
   ]
  },
  {
   "cell_type": "markdown",
   "metadata": {},
   "source": [
    "# Backpropagation \n",
    "\n",
    "Before training, the network makes random predictions which are far from correct. Backpropagation is the method used to incrementally update the weights in order to train the network. First, the output from forward propagation is compared with the desired output value to obtain the _error_ in the prediction. We then use the optimisation method of _gradient descent_ to incrementally adjust all the weights in the network in the direction which reduces this error. The process is iterated until the predictions converge to the desired output. \n",
    "\n",
    "The process can be summarised in two stages:\n",
    "\n",
    "### Step 1.  Calculate the error \n",
    "\n",
    "We find the error or \"cost\" of the network's prediction by taking the difference between predicted and actual output. A common \"cost function\" used to do this is the _mean squared error (MSE)_. It is defined thus:\n",
    "\n",
    "### $$ MSE = \\frac{1}{n}\\sum_{i=1}^{n}(predicted - observed)^2 $$\n",
    "\n",
    "Where $n$ is the number of observations.\n",
    "\n",
    "### Step 2.   Minimise the cost\n",
    "\n",
    "Secondly, we need to minimise the cost function by finding the optimum combination of weights and biases across the network. To do this, we use the _gradient descent algorithm_. First, we calculate the partial deriative of the cost function with respect to each weight and bias. We then subtract the result from the current weights to get the updated weights at the next time step.\n",
    "\n",
    "To be explicit, let us denote the MSE cost function as $C$, and keep the desired output as $y$ and the predicted output as $\\hat{y}$. At each iteration, we then have:\n",
    "\n",
    "### $$ C = \\sum_{i=1}^{n}(y - \\hat{y})^2$$\n",
    "\n",
    "The __partial derivative__ of $C$ with respect to each weight $W$ can be expressed using the chain rule as:\n",
    "\n",
    "### $$\\frac{\\partial{C}}{\\partial{W}} = \\frac{\\partial{C}}{\\partial{\\hat{y}}} * \\frac{\\partial{\\hat{y}}}{\\partial{{z}}} * \\frac{\\partial{z}}{\\partial{W}}$$\n",
    "\n",
    "Here, $z$ is the activation $Wx + b$, before being activated by the sigmoid function.\n",
    "\n",
    "We know, analytically, all three terms of this equation:\n",
    "\n",
    "### $$\\frac{\\partial{C}}{\\partial{\\hat{y}}} = 2(y - \\hat{y}) \\;, \\;\\;\\;  \\frac{\\partial{\\hat{y}}}{\\partial{z}} = z(1-z) \\;, \\;\\;\\;  \\frac{\\partial{z}}{\\partial{W}} = x$$\n",
    "\n",
    " \n",
    "And thus can re-express as:\n",
    "\n",
    "### $$\\frac{\\partial{C}}{\\partial{W}} = 2(y - \\hat{y}) * z(1-z) * x$$\n",
    "\n",
    "This allows us to  calculate the __partial derivative of the loss function__ with respect to the weights explicitly. We then increment the weights by adding the dot product of the output of each layer with this partial derivative.\n"
   ]
  },
  {
   "cell_type": "markdown",
   "metadata": {},
   "source": [
    "# Implementing an MLP to solve the XOR problem \n",
    "\n",
    "\n",
    "With this theoretical background in place, let us now code a simple MLP, with one hidden layer, capable of solving the XOR problem. We already have our activation function, input data and output data defined. The next step is to create the __weights and biases__. For this simple implementation, we will incorporate the biases into the weights as a __-1__ term. To make the code explicit at this stage, we will define the weights between the input-hidden and hidden-output layer as two separate variables, __W0__ and __W1.__"
   ]
  },
  {
   "cell_type": "code",
   "execution_count": 30,
   "metadata": {},
   "outputs": [],
   "source": [
    "# Seed random numbers to make the output of the calculations deterministic \n",
    "\n",
    "np.random.seed(1)\n",
    "\n",
    "# Obtain dimensions of input array\n",
    "\n",
    "l = len(x)           # Number of output classes, C\n",
    "l1 = len((x)[0])     # Dimensionality of input dataset, d\n",
    "\n",
    "# Initialise weight matrices W0 and W1\n",
    "\n",
    "W0 = 2*np.random.random((l1, l)) - 1  # dxC matrix of weights from input to hidden layer\n",
    "W1 = 2*np.random.random((l, 1)) - 1  # Cx1 matrix of weights from hidden to output layer "
   ]
  },
  {
   "cell_type": "markdown",
   "metadata": {},
   "source": [
    "Let us then create the __training loop__. First we perform forward propagation, then backpropagation. We run it over a large number of iterations (in this case, 50'000). "
   ]
  },
  {
   "cell_type": "code",
   "execution_count": 31,
   "metadata": {},
   "outputs": [
    {
     "name": "stdout",
     "output_type": "stream",
     "text": [
      "Error: 0.4995289647766772\n",
      "Error: 0.018951601482048636\n",
      "Error: 0.012674637262799143\n",
      "Error: 0.010027680242236311\n",
      "Error: 0.00850592237103725\n"
     ]
    }
   ],
   "source": [
    "# Set the number of iterations to perform\n",
    "\n",
    "iterations = 50000\n",
    "\n",
    "# Create the training loop \n",
    "\n",
    "for j in range(iterations):\n",
    "    l0 = x                            # Set the first layer, l0, equal to the training data \n",
    "    l1 = sigmoid(np.dot(l0, W0))      # Set the hidden layer, l1, equal to the result of forward propagation on the first layer\n",
    "    l2 = sigmoid(np.dot(l1, W1))      # Set the output layer, l2, equal to the result of forward propagation on the second layer\n",
    "    \n",
    "    # Calculate the error between the predicted and desired output\n",
    "    \n",
    "    l2_error = y - l2\n",
    "    \n",
    "    # Print the MSE every 10000 iterations, to visualise the improvement over time\n",
    "    \n",
    "    if j%10000 == 0:\n",
    "        MSE = np.mean(np.abs(l2_error))\n",
    "        print(\"Error: \" + str(MSE))\n",
    "        \n",
    "    # Backpropagate the error through l2 and l1 to obtain how each l1 output contributes to the l2 error \n",
    "    \n",
    "    l2_delta = l2_error * sigmoid_prime(l2) \n",
    "    l1_error = l2_delta.dot(W1.T)\n",
    "    l1_delta = l1_error * sigmoid_prime(l1)    # Produces a greater value for l1 values which contribute more greatly to the error \n",
    "    \n",
    "    # Update the weights in a manner which aims to counteract the error they produce \n",
    "    \n",
    "    W1 += np.dot(l1.T, l2_delta)    # If the weights contribute a lot to the error in their layer, the update is a large in the opposite direction to the error, and vice versa\n",
    "    W0 += np.dot(l0.T, l1_delta)"
   ]
  },
  {
   "cell_type": "markdown",
   "metadata": {},
   "source": [
    "We can observe the error decreasing progressively over the iterations. Let's now print the network's output prediction after 50'000 iterations. We can print the desired output, y, as a reminder of what we're aiming for."
   ]
  },
  {
   "cell_type": "code",
   "execution_count": 54,
   "metadata": {},
   "outputs": [
    {
     "name": "stdout",
     "output_type": "stream",
     "text": [
      "Desired output: \n",
      "[[0]\n",
      " [1]\n",
      " [1]\n",
      " [0]]\n",
      "\n",
      "Output after training:\n",
      "[[0.00886467]\n",
      " [0.99345174]\n",
      " [0.9920439 ]\n",
      " [0.00662409]]\n"
     ]
    }
   ],
   "source": [
    "print(\"Desired output: \")\n",
    "print(y)\n",
    "\n",
    "print(\"\\n\" + \"Output after training:\")\n",
    "print(l2)"
   ]
  },
  {
   "cell_type": "markdown",
   "metadata": {},
   "source": [
    "We see that the network's predictions have converged to be very close to our desired outputs. In other words, the MLP has learned to correctly classify the inputs in the truth table of the XOR problem. Indeed, if we round the outputs to their nearest integer, we can see this more clearly:"
   ]
  },
  {
   "cell_type": "code",
   "execution_count": 78,
   "metadata": {},
   "outputs": [
    {
     "name": "stdout",
     "output_type": "stream",
     "text": [
      "Rounded output after training: \n",
      "[[0.]\n",
      " [1.]\n",
      " [1.]\n",
      " [0.]]\n"
     ]
    }
   ],
   "source": [
    "print(\"Rounded output after training: \")\n",
    "print(np.rint(l2))"
   ]
  },
  {
   "cell_type": "markdown",
   "metadata": {},
   "source": [
    "# Conclusion \n",
    "\n",
    "\n",
    "To conclude, I would like to summarise what this project has achieved. After a brief introduction to the __XOR problem,__ we have explored the theoretical background behind the computational architecture capable of solving it, the __multilayer perceptron__ - as well as its precursor, the more simple __perceptron.__ After exploring the basic mathematical principles behind __forward propagation__ and __backpropagation,__ we then trained a simple 3-layer MLP architecture on the classification problem of XOR. We have shown that the network has can achieve an adequate classification of the inputs after 50'000 training iterations. We have also visualised the reduction in error over time. Using this code, we can experiment with various parameters such as the weight initialisations and number of training iterations, to explore the nature of how the network behaves. It would be interesting to extend the implementation to include separate __bias vectors,__ an incremental weight update via a __learning rate__, or perhaps a different nonlinear activation function such as a __ReLu.__\n",
    "\n"
   ]
  },
  {
   "cell_type": "markdown",
   "metadata": {},
   "source": [
    "# Evaluation \n",
    "\n",
    "To wrap up, some words about my personal experiences with this project. Although it may not appear as such, this endeavour was a huge undertaking for me. I spent an enormous amount of time immersing myself in the hype of neural networks, consuming resource after resource, following what appeared to be a never-ending chain of potential information. Since the field has exploded so much in recent years, there is an enormous amount of content online - web tutorials, books, mini-series, video tutorials, online courses - each proposing their own angle of attack. This was both a blessing and a curse for me. It was extremely useful to have such a wealth of perpectives, and such scope of examples to learn from - but it was also extremely overwhelming to navigate, and left me always burrowing down rabbit holes that were difficult to emerge from. I would spend days reading different angles of explanation from different disciplines, and experimenting with architectures that were all supposed to be doing the same thing, but didn't match. Ultimately, I have still not been able to fully synthesise the common ground between them. This is why I ended up limiting myself to the overly-simplistic result we find here, instead of 'feigning' a mastery of what to me is still unclear. My small fear is that such a result is not reflective, and does not fully 'do justice' to the amount of work that was involved in reaching this point - but this should hardly be a matter of concern.\n",
    "\n",
    "Ultimately, I am extremely happy to have carried out this project, and am grateful to PCBS for the excuse to spend time on something I have been wishing to explore deeply. I enjoyed immensely the process of discovery, immersion, and sometimes complete 'burial' in something which has for a long time been a black box. I especially enjoyed getting to grips with the calculus of backpropagation and spending hours getting lost in the dimensionality of different matrices. Most pages of my notebooks are now covered in some form of lines and dots. But, I shall be grateful, for my basic linear algebra intuitions have greatly improved as a result - something which is personally crucial from here on out. I also hugely enjoyed learning the basics of LaTeX for the purposes of the Jupyter Notebook write-up, which I have been wishing to do for some time. Now I am extremely motivated to improve my efficiency in both LaTeX and markdown, recognising how useful and streamlined they can be. Finally, I look forward to making slow but sure progress in Python - and continuing to be motivated, and hopefully not paralysed, by the recognition of how much I do not know. "
   ]
  },
  {
   "cell_type": "code",
   "execution_count": null,
   "metadata": {},
   "outputs": [],
   "source": []
  }
 ],
 "metadata": {
  "kernelspec": {
   "display_name": "Python 3",
   "language": "python",
   "name": "python3"
  },
  "language_info": {
   "codemirror_mode": {
    "name": "ipython",
    "version": 3
   },
   "file_extension": ".py",
   "mimetype": "text/x-python",
   "name": "python",
   "nbconvert_exporter": "python",
   "pygments_lexer": "ipython3",
   "version": "3.7.3"
  }
 },
 "nbformat": 4,
 "nbformat_minor": 2
}
