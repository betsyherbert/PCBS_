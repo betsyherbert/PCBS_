{
 "cells": [
  {
   "cell_type": "code",
   "execution_count": 98,
   "metadata": {},
   "outputs": [],
   "source": [
    "# Import dependencies\n",
    "\n",
    "import numpy as np\n",
    "from random import seed\n",
    "from random import random"
   ]
  },
  {
   "cell_type": "code",
   "execution_count": 99,
   "metadata": {},
   "outputs": [],
   "source": [
    "# Initialise network with weights and biases for each layer\n",
    "\n",
    "def initialise_network(n_inputs, n_hidden, n_outputs):\n",
    "    network = []\n",
    "    hidden_layer = [{'weights': [random() for i in range(n_inputs + 1)]} for i in range(n_hidden)]\n",
    "    network.append(hidden_layer)\n",
    "    output_layer = [{'weights': [random() for i in range(n_hidden + 1)]} for i in range(n_outputs)] # plus 1 because of bias term\n",
    "    network.append(output_layer)\n",
    "    return network\n"
   ]
  },
  {
   "cell_type": "code",
   "execution_count": 100,
   "metadata": {},
   "outputs": [],
   "source": [
    "# Forward propagation \n",
    "\n",
    "# Calculate weighted sum for an input \n",
    "\n",
    "def activate(weights, inputs):\n",
    "    z = weights[-1]   # Assume the bias is the last in the list of weights\n",
    "    for i in range(len(weights)-1):\n",
    "        z += weights[i]*inputs[i]\n",
    "    return z\n",
    "\n",
    "# Put weighted sum through sigmoid activation function \n",
    "\n",
    "def sigmoid(z):\n",
    "    return 1.0 / (1.0 + np.exp(-z))\n",
    "\n",
    "# Forward propagate input to a network output\n",
    "\n",
    "def forward_propagate(network, row):\n",
    "    inputs = row \n",
    "    for layer in network:\n",
    "        new_inputs = []\n",
    "        for neuron in layer:\n",
    "            z = activate(neuron['weights'], inputs)\n",
    "            neuron['output'] = sigmoid(z)\n",
    "            new_inputs.append(neuron['output'])\n",
    "        inputs = new_inputs\n",
    "    return inputs\n"
   ]
  },
  {
   "cell_type": "code",
   "execution_count": 109,
   "metadata": {},
   "outputs": [
    {
     "name": "stdout",
     "output_type": "stream",
     "text": [
      "Expected = 0, Got = 0\n",
      "Expected = 0, Got = 0\n",
      "Expected = 0, Got = 0\n",
      "Expected = 0, Got = 0\n",
      "Expected = 0, Got = 0\n",
      "Expected = 1, Got = 1\n",
      "Expected = 1, Got = 1\n",
      "Expected = 1, Got = 1\n",
      "Expected = 1, Got = 1\n",
      "Expected = 1, Got = 1\n"
     ]
    }
   ],
   "source": [
    "# Make a prediction with the network\n",
    "\n",
    "# Take the argmax of the output of forward propagation, to select the class value with the largest probability \n",
    "\n",
    "def predict(network, row):\n",
    "    outputs = forward_propagate(network, row)\n",
    "    return outputs.index(max(outputs))\n",
    "\n",
    "# Print predictions \n",
    "\n",
    "for row in training_set:\n",
    "    prediction = predict(network, row)\n",
    "    print('Expected = %d, Got = %d' % (row[-1], prediction))"
   ]
  },
  {
   "cell_type": "code",
   "execution_count": 104,
   "metadata": {},
   "outputs": [],
   "source": [
    "# Backpropagate error \n",
    "\n",
    "# Calculate sigmoid derivative of a neuron output\n",
    "\n",
    "def sigmoid_prime(z):\n",
    "    return z * (1.0 - z)\n",
    "\n",
    "# Error in output layer = (expected - output) * sigmoid_prime(output)\n",
    "# Error in hidden layer = (weight_k * error_j) * sigmoid_prime(output)\n",
    "\n",
    "# Backpropagate error and store in neurons \n",
    "\n",
    "def backpropagate_error(network, expected):\n",
    "    for i in reversed(range(len(network))):\n",
    "        layer = network[i]\n",
    "        errors = []\n",
    "        if i != len(network)-1:\n",
    "            for j in range(len(layer)):\n",
    "                error = 0.0\n",
    "                for neuron in network[i + 1]:\n",
    "                    error += (neuron['weights'][j] * neuron['delta'])\n",
    "                errors.append(error)\n",
    "        else:\n",
    "            for j in range(len(layer)):\n",
    "                neuron = layer[j]\n",
    "                errors.append(expected[j] - neuron['output'])\n",
    "            \n",
    "        for j in range(len(layer)):\n",
    "            neuron = layer[j]\n",
    "            neuron['delta'] = errors[j] * sigmoid_prime(neuron['output'])\n",
    "            "
   ]
  },
  {
   "cell_type": "code",
   "execution_count": 105,
   "metadata": {},
   "outputs": [],
   "source": [
    "# Train network using stochastic gradient descent \n",
    "\n",
    "# Update weights\n",
    "\n",
    "# new weight = weight + learning_rate * error * input\n",
    "\n",
    "def update_weights(network, row, learning_rate):\n",
    "    for i in range(len(network)):\n",
    "        inputs = row[:-1]\n",
    "        if i != 0:\n",
    "            inputs = [neuron['output'] for neuron in network[i - 1]]\n",
    "        for neuron in network[i]:\n",
    "            for j in range(len(inputs)):\n",
    "                neuron['weights'][j] += learning_rate * neuron['delta'] * inputs[j]\n",
    "            neuron['weights'][-1] += learning_rate * neuron['delta']   # The bias weight\n",
    "            \n",
    "\n",
    "# Loop for a fixed number of epochs; within each epoch, update the network for each row in the training dataset. This is called online learning.\n",
    "\n",
    "# Train network for a fixed number of epochs\n",
    "\n",
    "def train_network(network, training_set, learning_rate, n_epochs, n_outputs):\n",
    "    for epoch in range(n_epochs):\n",
    "        error_sum = 0\n",
    "        for row in training_set:\n",
    "            output = forward_propagate(network, row)\n",
    "            expected = [0 for i in range(n_outputs)]    # Transform binary class values in training data into a one hot encoding\n",
    "            expected[row[-1]] = 1\n",
    "            error_sum += sum([(expected[i] - output[i])**2 for i in range(len(expected))])\n",
    "            backpropagate_error(network, expected)\n",
    "            update_weights(network, row, learning_rate)\n",
    "        print('>epoch=%d, lrate=%.3f, error=%.3f' % (epoch, learning_rate, error_sum))\n",
    "        "
   ]
  },
  {
   "cell_type": "code",
   "execution_count": 110,
   "metadata": {},
   "outputs": [
    {
     "name": "stdout",
     "output_type": "stream",
     "text": [
      ">epoch=0, lrate=0.500, error=6.350\n",
      ">epoch=1, lrate=0.500, error=5.531\n",
      ">epoch=2, lrate=0.500, error=5.221\n",
      ">epoch=3, lrate=0.500, error=4.951\n",
      ">epoch=4, lrate=0.500, error=4.519\n",
      ">epoch=5, lrate=0.500, error=4.173\n",
      ">epoch=6, lrate=0.500, error=3.835\n",
      ">epoch=7, lrate=0.500, error=3.506\n",
      ">epoch=8, lrate=0.500, error=3.192\n",
      ">epoch=9, lrate=0.500, error=2.898\n",
      ">epoch=10, lrate=0.500, error=2.626\n",
      ">epoch=11, lrate=0.500, error=2.377\n",
      ">epoch=12, lrate=0.500, error=2.153\n",
      ">epoch=13, lrate=0.500, error=1.953\n",
      ">epoch=14, lrate=0.500, error=1.774\n",
      ">epoch=15, lrate=0.500, error=1.614\n",
      ">epoch=16, lrate=0.500, error=1.472\n",
      ">epoch=17, lrate=0.500, error=1.346\n",
      ">epoch=18, lrate=0.500, error=1.233\n",
      ">epoch=19, lrate=0.500, error=1.132\n",
      "[{'weights': [-1.4688375095432327, 1.850887325439514, 1.0858178629550297], 'output': 0.029980305604426185, 'delta': -0.0059546604162323625}, {'weights': [0.37711098142462157, -0.0625909894552989, 0.2765123702642716], 'output': 0.9456229000211323, 'delta': 0.0026279652850863837}]\n",
      "[{'weights': [2.515394649397849, -0.3391927502445985, -0.9671565426390275], 'output': 0.23648794202357587, 'delta': -0.04270059278364587}, {'weights': [-2.5584149848484263, 1.0036422106209202, 0.42383086467582715], 'output': 0.7790535202438367, 'delta': 0.03803132596437354}]\n"
     ]
    }
   ],
   "source": [
    "seed(1)\n",
    "\n",
    "training_set = [[2.7810836,2.550537003,0],\n",
    "\t[1.465489372,2.362125076,0],\n",
    "\t[3.396561688,4.400293529,0],\n",
    "\t[1.38807019,1.850220317,0],\n",
    "\t[3.06407232,3.005305973,0],\n",
    "\t[7.627531214,2.759262235,1],\n",
    "\t[5.332441248,2.088626775,1],\n",
    "\t[6.922596716,1.77106367,1],\n",
    "\t[8.675418651,-0.242068655,1],\n",
    "\t[7.673756466,3.508563011,1]]\n",
    "\n",
    "n_inputs = len(training_set[0]) - 1\n",
    "n_outputs = len(set([row[-1] for row in training_set]))\n",
    "network = initialise_network(n_inputs, 2, n_outputs)\n",
    "\n",
    "\n",
    "train_network(network, training_set, 0.5, 20, n_outputs)\n",
    "for layer in network:\n",
    "    print(layer)"
   ]
  },
  {
   "cell_type": "code",
   "execution_count": null,
   "metadata": {},
   "outputs": [],
   "source": []
  }
 ],
 "metadata": {
  "kernelspec": {
   "display_name": "Python 3",
   "language": "python",
   "name": "python3"
  },
  "language_info": {
   "codemirror_mode": {
    "name": "ipython",
    "version": 3
   },
   "file_extension": ".py",
   "mimetype": "text/x-python",
   "name": "python",
   "nbconvert_exporter": "python",
   "pygments_lexer": "ipython3",
   "version": "3.7.3"
  }
 },
 "nbformat": 4,
 "nbformat_minor": 2
}
